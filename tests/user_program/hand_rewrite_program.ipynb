{
 "cells": [
  {
   "cell_type": "code",
   "execution_count": 14,
   "metadata": {},
   "outputs": [],
   "source": [
    "import pyspark\n",
    "from sparkvalidator.functions import *\n",
    "from sparkvalidator.sampler import *\n",
    "\n",
    "# create spark session and read in the data\n",
    "spark = pyspark.sql.SparkSession.builder.appName('demo').getOrCreate()\n",
    "df = spark.read.option(\"header\",\"true\").csv('data/walmart_stock.csv')"
   ]
  },
  {
   "cell_type": "code",
   "execution_count": 15,
   "metadata": {},
   "outputs": [
    {
     "name": "stdout",
     "output_type": "stream",
     "text": [
      "total number of entries:  648\n",
      "max stock price is: \n",
      "+---------+\n",
      "|max(High)|\n",
      "+---------+\n",
      "|    90.39|\n",
      "+---------+\n",
      "\n",
      "+---------------------+--------------------+\n",
      "|max_price_fluctuation|  final_price_change|\n",
      "+---------------------+--------------------+\n",
      "|   0.8799972534179688|                -0.5|\n",
      "|                 1.25| 0.06999969482421875|\n",
      "|   0.5800018310546875| -0.4199981689453125|\n",
      "|   0.7299995422363281| -0.3899993896484375|\n",
      "|  0.48999786376953125|  0.3400001525878906|\n",
      "|   0.5999984741210938|-0.29000091552734375|\n",
      "|   0.5900001525878906|-0.02000045776367...|\n",
      "|   0.9799995422363281|  0.6800003051757812|\n",
      "|   0.5800018310546875|  0.2599983215332031|\n",
      "|    0.470001220703125| 0.09999847412109375|\n",
      "|   0.5699996948242188| 0.29000091552734375|\n",
      "|   0.5799980163574219|-0.15000152587890625|\n",
      "|    0.970001220703125|  0.8299980163574219|\n",
      "|   0.9899978637695312| -0.1699981689453125|\n",
      "|   0.6500015258789062| -0.4600028991699219|\n",
      "|   0.7299995422363281|-0.29000091552734375|\n",
      "|   0.2800025939941406| 0.06999969482421875|\n",
      "|   0.3500022888183594|-0.21999740600585938|\n",
      "|   0.8499984741210938| -0.5600013732910156|\n",
      "|  0.48999786376953125|  0.2700004577636719|\n",
      "+---------------------+--------------------+\n",
      "only showing top 20 rows\n",
      "\n"
     ]
    }
   ],
   "source": [
    "# select useful columns - Open, High, Low, Close\n",
    "df = df.select(df['Open'].cast('float'),df['High'].cast('float'),df['Low'].cast('float'),df['Close'].cast('float'))\n",
    "\n",
    "# sample the df\n",
    "df = random_sampling(df, 2,False,0.5)\n",
    "\n",
    "# count number of data entries in the file\n",
    "entryCount = count(df)\n",
    "print('total number of entries: ',entryCount)\n",
    "\n",
    "# find the max stock price\n",
    "maxPriceDf = max(df,'High')\n",
    "print(\"max stock price is: \")\n",
    "maxPriceDf.show()\n",
    "\n",
    "# find max price fluctuation and final price change in a day\n",
    "df = map(df, lambda x : (x[1] - x[2],x[3] - x[0]), [\"max_price_fluctuation\",\"final_price_change\"])\n",
    "df.show()\n"
   ]
  }
 ],
 "metadata": {
  "interpreter": {
   "hash": "40d3a090f54c6569ab1632332b64b2c03c39dcf918b08424e98f38b5ae0af88f"
  },
  "kernelspec": {
   "display_name": "Python 3.7.4 64-bit ('base': conda)",
   "language": "python",
   "name": "python3"
  },
  "language_info": {
   "codemirror_mode": {
    "name": "ipython",
    "version": 3
   },
   "file_extension": ".py",
   "mimetype": "text/x-python",
   "name": "python",
   "nbconvert_exporter": "python",
   "pygments_lexer": "ipython3",
   "version": "3.7.4"
  },
  "orig_nbformat": 4
 },
 "nbformat": 4,
 "nbformat_minor": 2
}
