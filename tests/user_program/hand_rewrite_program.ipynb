{
 "cells": [
  {
   "cell_type": "code",
   "execution_count": 6,
   "metadata": {},
   "outputs": [],
   "source": [
    "import pyspark\n",
    "from sparkvalidator.functions import *\n",
    "from sparkvalidator.sampler import *\n",
    "\n",
    "# create spark session and read in the data\n",
    "spark = pyspark.sql.SparkSession.builder.appName('demo').getOrCreate()\n",
    "df = spark.read.option(\"header\",\"true\").csv('data/walmart_stock.csv')"
   ]
  },
  {
   "cell_type": "code",
   "execution_count": 9,
   "metadata": {},
   "outputs": [
    {
     "ename": "SyntaxError",
     "evalue": "EOL while scanning string literal (2914627870.py, line 15)",
     "output_type": "error",
     "traceback": [
      "\u001b[0;36m  File \u001b[0;32m\"/var/folders/px/h9bzcjb97mvdxv5js_5j17p80000gn/T/ipykernel_84569/2914627870.py\"\u001b[0;36m, line \u001b[0;32m15\u001b[0m\n\u001b[0;31m    print(\"pd_df)\u001b[0m\n\u001b[0m                 ^\u001b[0m\n\u001b[0;31mSyntaxError\u001b[0m\u001b[0;31m:\u001b[0m EOL while scanning string literal\n"
     ]
    }
   ],
   "source": [
    "def compareTest(ps_result, pd_result, f_name):\n",
    "    if isinstance(pd_result, pandas.core.frame.DataFrame):\n",
    "        ps_m_result = ps_result.toPandas()\n",
    "        print(\"pyspark result: \",ps_m_result,type(ps_m_result))\n",
    "        print(\"pandas result: \",pd_result, type(pd_result)) \n",
    "        # comparison = pd_result.compare(ps_m_result).empty\n",
    "    # else:\n",
    "    #     comparison = (ps_result == pd_result)\n",
    "    # # raise assertion error if not equal\n",
    "    # if not comparison:\n",
    "    #     # print(\"pyspark result: \",ps_m_result,type(ps_m_result))\n",
    "    #     # print(\"pandas result: \",pd_result, type(pd_result))\n",
    "    #     raise AssertionError(\"Potential error in %s\" % f_name)\n",
    "def averageTest(df, col):\n",
    "    '''\n",
    "    Parameters: \n",
    "        df: pyspark dataframe\n",
    "        col: column to be averaged\n",
    "    Return:\n",
    "        ps_result: pyspark dataframe after average\n",
    "    '''\n",
    "    # run average on pyspark dataframe\n",
    "    # run min on pyspark dataframe\n",
    "    ps_result = df.select(df[col]).groupBy().avg()\n",
    "\n",
    "    # run average on pandas dataframe\n",
    "    pd_df = df.toPandas()\n",
    "    print(\"pd_df\",pd_df)\n",
    "    pd_result = pd_df.groupby(col).mean()\n",
    "    print(\"PD result\",pd_result)\n",
    "    # compare results from pyspark and pandas\n",
    "    # compareTest(ps_result, pd_result, \"average\")\n",
    "    return ps_result\n",
    "\n"
   ]
  },
  {
   "cell_type": "code",
   "execution_count": 8,
   "metadata": {},
   "outputs": [
    {
     "name": "stdout",
     "output_type": "stream",
     "text": [
      "total number of entries:  1258\n",
      "+---------+\n",
      "|max(High)|\n",
      "+---------+\n",
      "|    90.97|\n",
      "+---------+\n",
      "\n",
      "+---------------------+--------------------+\n",
      "|max_price_fluctuation|  final_price_change|\n",
      "+---------------------+--------------------+\n",
      "|     1.19000244140625|  0.3600006103515625|\n",
      "|   0.8799972534179688|                -0.5|\n",
      "|                 1.25| 0.06999969482421875|\n",
      "|   0.5800018310546875| -0.4199981689453125|\n",
      "|   0.6300010681152344| 0.15000152587890625|\n",
      "|   0.7299995422363281| -0.3899993896484375|\n",
      "|  0.48999786376953125|  0.3400001525878906|\n",
      "|   0.5999984741210938|-0.29000091552734375|\n",
      "|   0.6000022888183594|  0.3600006103515625|\n",
      "|   0.5900001525878906|-0.02000045776367...|\n",
      "|  0.37999725341796875| 0.21999740600585938|\n",
      "|   0.9799995422363281|  0.6800003051757812|\n",
      "|   0.5800018310546875|  0.2599983215332031|\n",
      "|    0.470001220703125| 0.09999847412109375|\n",
      "|                 1.25|  0.6399993896484375|\n",
      "|   0.5699996948242188| 0.29000091552734375|\n",
      "|   1.0699996948242188| -0.8299980163574219|\n",
      "|   0.5799980163574219|-0.15000152587890625|\n",
      "|    0.970001220703125|  0.8299980163574219|\n",
      "|   0.9899978637695312| -0.1699981689453125|\n",
      "+---------------------+--------------------+\n",
      "only showing top 20 rows\n",
      "\n",
      "PD result                        final_price_change\n",
      "max_price_fluctuation                    \n",
      "0.259998                        -0.090000\n",
      "0.279999                         0.030001\n",
      "0.280003                         0.070000\n",
      "0.300003                        -0.189999\n",
      "0.320000                         0.005001\n",
      "...                                   ...\n",
      "2.779999                        -2.309998\n",
      "3.330002                        -2.380005\n",
      "4.430000                         0.290001\n",
      "4.660004                         0.209999\n",
      "7.929996                        -6.580002\n",
      "\n",
      "[341 rows x 1 columns]\n",
      "+--------------------------+\n",
      "|avg(max_price_fluctuation)|\n",
      "+--------------------------+\n",
      "|        0.9207871259680234|\n",
      "+--------------------------+\n",
      "\n"
     ]
    }
   ],
   "source": [
    "# select useful columns - Open, High, Low, Close\n",
    "df = df.select(df['Open'].cast('float'),df['High'].cast('float'),df['Low'].cast('float'),df['Close'].cast('float'))\n",
    "\n",
    "# count number of data entries in the file\n",
    "entryCount = count(df)\n",
    "print('total number of entries: ',entryCount)\n",
    "\n",
    "# find the max stock price\n",
    "maxPriceDf = max(df,'High')\n",
    "maxPriceDf.show()\n",
    "\n",
    "# find max price fluctuation and final price change in a day\n",
    "df = map(df, lambda x : (x[1] - x[2],x[3] - x[0]), [\"max_price_fluctuation\",\"final_price_change\"])\n",
    "df.show()\n",
    "\n",
    "# find average price fluctuation\n",
    "fluctuationDf = averageTest(df,\"max_price_fluctuation\")\n",
    "fluctuationDf.show()\n",
    "\n"
   ]
  }
 ],
 "metadata": {
  "interpreter": {
   "hash": "40d3a090f54c6569ab1632332b64b2c03c39dcf918b08424e98f38b5ae0af88f"
  },
  "kernelspec": {
   "display_name": "Python 3.7.4 64-bit ('base': conda)",
   "language": "python",
   "name": "python3"
  },
  "language_info": {
   "codemirror_mode": {
    "name": "ipython",
    "version": 3
   },
   "file_extension": ".py",
   "mimetype": "text/x-python",
   "name": "python",
   "nbconvert_exporter": "python",
   "pygments_lexer": "ipython3",
   "version": "3.7.4"
  },
  "orig_nbformat": 4
 },
 "nbformat": 4,
 "nbformat_minor": 2
}
