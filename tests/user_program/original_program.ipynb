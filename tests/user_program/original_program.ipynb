{
 "cells": [
  {
   "cell_type": "code",
   "execution_count": 1,
   "metadata": {},
   "outputs": [
    {
     "name": "stderr",
     "output_type": "stream",
     "text": [
      "21/11/30 19:36:41 WARN Utils: Your hostname, MacBook-Pro.local resolves to a loopback address: 127.0.0.1; using 192.168.1.235 instead (on interface en0)\n",
      "21/11/30 19:36:41 WARN Utils: Set SPARK_LOCAL_IP if you need to bind to another address\n",
      "WARNING: An illegal reflective access operation has occurred\n",
      "WARNING: Illegal reflective access by org.apache.spark.unsafe.Platform (file:/Users/anne/Desktop/cs214/spark-validator/venv/lib/python3.7/site-packages/pyspark/jars/spark-unsafe_2.12-3.2.0.jar) to constructor java.nio.DirectByteBuffer(long,int)\n",
      "WARNING: Please consider reporting this to the maintainers of org.apache.spark.unsafe.Platform\n",
      "WARNING: Use --illegal-access=warn to enable warnings of further illegal reflective access operations\n",
      "WARNING: All illegal access operations will be denied in a future release\n",
      "Using Spark's default log4j profile: org/apache/spark/log4j-defaults.properties\n",
      "Setting default log level to \"WARN\".\n",
      "To adjust logging level use sc.setLogLevel(newLevel). For SparkR, use setLogLevel(newLevel).\n",
      "21/11/30 19:36:42 WARN NativeCodeLoader: Unable to load native-hadoop library for your platform... using builtin-java classes where applicable\n",
      "21/11/30 19:36:44 WARN Utils: Service 'SparkUI' could not bind on port 4040. Attempting port 4041.\n",
      "21/11/30 19:36:44 WARN Utils: Service 'SparkUI' could not bind on port 4041. Attempting port 4042.\n"
     ]
    }
   ],
   "source": [
    "import pyspark\n",
    "\n",
    "# create spark session and read in the data\n",
    "spark = pyspark.sql.SparkSession.builder.appName('demo').getOrCreate()\n",
    "df = spark.read.option(\"header\",\"true\").csv('data/walmart_stock.csv')"
   ]
  },
  {
   "cell_type": "code",
   "execution_count": 2,
   "metadata": {},
   "outputs": [
    {
     "name": "stdout",
     "output_type": "stream",
     "text": [
      "total number of entries:  1258\n",
      "+---------+\n",
      "|max(High)|\n",
      "+---------+\n",
      "|    90.97|\n",
      "+---------+\n",
      "\n"
     ]
    },
    {
     "name": "stderr",
     "output_type": "stream",
     "text": []
    },
    {
     "name": "stdout",
     "output_type": "stream",
     "text": [
      "+---------------------+--------------------+\n",
      "|max_price_fluctuation|  final_price_change|\n",
      "+---------------------+--------------------+\n",
      "|     1.19000244140625|  0.3600006103515625|\n",
      "|   0.8799972534179688|                -0.5|\n",
      "|                 1.25| 0.06999969482421875|\n",
      "|   0.5800018310546875| -0.4199981689453125|\n",
      "|   0.6300010681152344| 0.15000152587890625|\n",
      "|   0.7299995422363281| -0.3899993896484375|\n",
      "|  0.48999786376953125|  0.3400001525878906|\n",
      "|   0.5999984741210938|-0.29000091552734375|\n",
      "|   0.6000022888183594|  0.3600006103515625|\n",
      "|   0.5900001525878906|-0.02000045776367...|\n",
      "|  0.37999725341796875| 0.21999740600585938|\n",
      "|   0.9799995422363281|  0.6800003051757812|\n",
      "|   0.5800018310546875|  0.2599983215332031|\n",
      "|    0.470001220703125| 0.09999847412109375|\n",
      "|                 1.25|  0.6399993896484375|\n",
      "|   0.5699996948242188| 0.29000091552734375|\n",
      "|   1.0699996948242188| -0.8299980163574219|\n",
      "|   0.5799980163574219|-0.15000152587890625|\n",
      "|    0.970001220703125|  0.8299980163574219|\n",
      "|   0.9899978637695312| -0.1699981689453125|\n",
      "+---------------------+--------------------+\n",
      "only showing top 20 rows\n",
      "\n",
      "+--------------------------+\n",
      "|avg(max_price_fluctuation)|\n",
      "+--------------------------+\n",
      "|        0.9207871259680234|\n",
      "+--------------------------+\n",
      "\n"
     ]
    }
   ],
   "source": [
    "# select useful columns - Open, High, Low, Close\n",
    "df = df.select(df['Open'].cast('float'),df['High'].cast('float'),df['Low'].cast('float'),df['Close'].cast('float'))\n",
    "\n",
    "# count number of data entries in the file\n",
    "entryCount = df.count()\n",
    "print(\"total number of entries: \",entryCount)\n",
    "\n",
    "# find the max stock price\n",
    "HighPriceDf = df.select(df['High'])\n",
    "maxPriceDf = HighPriceDf.groupBy()\n",
    "maxPriceDf = maxPriceDf.max()\n",
    "maxPriceDf.show()\n",
    "\n",
    "# find max price fluctuation and final price change in a day\n",
    "df = df.rdd.map(lambda x : (x[1] - x[2],x[3] - x[0])).toDF([\"max_price_fluctuation\",\"final_price_change\"])\n",
    "df.show()\n",
    "\n",
    "# find average price fluctuation\n",
    "fluctuationDf = df.select(df[\"max_price_fluctuation\"])\n",
    "fluctuationDf = fluctuationDf.groupBy()\n",
    "fluctuationDf = fluctuationDf.avg()\n",
    "fluctuationDf.show()\n"
   ]
  }
 ],
 "metadata": {
  "interpreter": {
   "hash": "6b039416a6c424c5632fd63d5e098380261c076277e16d12a0a361c65ddb5d10"
  },
  "kernelspec": {
   "display_name": "Python 3.7.4 64-bit ('venv': venv)",
   "language": "python",
   "name": "python3"
  },
  "language_info": {
   "codemirror_mode": {
    "name": "ipython",
    "version": 3
   },
   "file_extension": ".py",
   "mimetype": "text/x-python",
   "name": "python",
   "nbconvert_exporter": "python",
   "pygments_lexer": "ipython3",
   "version": "3.7.4"
  },
  "orig_nbformat": 4
 },
 "nbformat": 4,
 "nbformat_minor": 2
}
