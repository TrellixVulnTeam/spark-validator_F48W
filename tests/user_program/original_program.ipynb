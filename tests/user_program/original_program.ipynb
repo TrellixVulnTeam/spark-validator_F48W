{
 "cells": [
  {
   "cell_type": "code",
   "execution_count": null,
   "metadata": {},
   "outputs": [],
   "source": [
    "import pyspark\n",
    "\n",
    "# create spark session and read in the data\n",
    "spark = pyspark.sql.SparkSession.builder.appName('demo').getOrCreate()\n",
    "df = spark.read.option(\"header\",\"true\").csv('data/walmart_stock.csv')"
   ]
  },
  {
   "cell_type": "code",
   "execution_count": null,
   "metadata": {},
   "outputs": [],
   "source": [
    "# select useful columns - Open, High, Low, Close\n",
    "df = df.select(df['Open'].cast('float'),df['High'].cast('float'),df['Low'].cast('float'),df['Close'].cast('float'))\n",
    "\n",
    "# count number of data entries in the file\n",
    "entryCount = df.count()\n",
    "print(\"total number of entries: \",entryCount)\n",
    "\n",
    "# find the max stock price\n",
    "HighPriceDf = df.select(df['High'])\n",
    "maxPriceDf = HighPriceDf.groupBy()\n",
    "maxPriceDf = maxPriceDf.max()\n",
    "maxPriceDf.show()\n",
    "\n",
    "# find max price fluctuation and final price change in a day\n",
    "df = df.rdd.map(lambda x : (x[1] - x[2],x[3] - x[0])).toDF([\"max_price_fluctuation\",\"final_price_change\"])\n",
    "df.show()\n",
    "\n",
    "# find average price fluctuation\n",
    "fluctuationDf = df.select(df[\"max_price_fluctuation\"])\n",
    "fluctuationDf = fluctuationDf.groupBy()\n",
    "fluctuationDf = fluctuationDf.avg()\n",
    "fluctuationDf.show()\n"
   ]
  }
 ],
 "metadata": {
  "interpreter": {
   "hash": "6b039416a6c424c5632fd63d5e098380261c076277e16d12a0a361c65ddb5d10"
  },
  "kernelspec": {
   "display_name": "Python 3.7.4 64-bit ('venv': venv)",
   "language": "python",
   "name": "python3"
  },
  "language_info": {
   "codemirror_mode": {
    "name": "ipython",
    "version": 3
   },
   "file_extension": ".py",
   "mimetype": "text/x-python",
   "name": "python",
   "nbconvert_exporter": "python",
   "pygments_lexer": "ipython3",
   "version": "3.7.4"
  },
  "orig_nbformat": 4
 },
 "nbformat": 4,
 "nbformat_minor": 2
}
